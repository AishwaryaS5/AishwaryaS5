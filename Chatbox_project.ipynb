{
  "nbformat": 4,
  "nbformat_minor": 0,
  "metadata": {
    "colab": {
      "provenance": [],
      "authorship_tag": "ABX9TyPa46wpoW4l3eZFtCvHTqm0",
      "include_colab_link": true
    },
    "kernelspec": {
      "name": "python3",
      "display_name": "Python 3"
    },
    "language_info": {
      "name": "python"
    }
  },
  "cells": [
    {
      "cell_type": "markdown",
      "metadata": {
        "id": "view-in-github",
        "colab_type": "text"
      },
      "source": [
        "<a href=\"https://colab.research.google.com/github/AishwaryaS5/AishwaryaS5/blob/main/Chatbox_project.ipynb\" target=\"_parent\"><img src=\"https://colab.research.google.com/assets/colab-badge.svg\" alt=\"Open In Colab\"/></a>"
      ]
    },
    {
      "cell_type": "code",
      "execution_count": null,
      "metadata": {
        "colab": {
          "base_uri": "https://localhost:8080/"
        },
        "id": "16fB6oGVWWep",
        "outputId": "e77af127-dccd-4aa7-986f-4a586e210187"
      },
      "outputs": [
        {
          "output_type": "stream",
          "name": "stdout",
          "text": [
            "What would you like to talk about? Morning \n",
            "That's an interesting topic.\n"
          ]
        }
      ],
      "source": [
        "\n",
        "import random\n",
        "\n",
        "def chat():\n",
        "  \"\"\"A simple chatbox.\"\"\"\n",
        "\n",
        "  # Get the user's input.\n",
        "  user_input = input(\"What would you like to talk about? \")\n",
        "\n",
        "  # Generate a random response.\n",
        "  responses = [\"I'm sorry, I don't understand.\", \"That's an interesting topic.\", \"Can you tell me more about that?\"]\n",
        "  response = random.choice(responses)\n",
        "\n",
        "  # Print the response.\n",
        "  print(response)\n",
        "\n",
        "if __name__ == \"__main__\":\n",
        "  chat()"
      ]
    }
  ]
}